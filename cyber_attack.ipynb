{
 "cells": [
  {
   "cell_type": "code",
   "execution_count": null,
   "id": "4fef46b1-ad1d-43a1-9395-54c50fd46358",
   "metadata": {},
   "outputs": [],
   "source": [
    "import numpy as np\n",
    "import pandas as pd\n",
    "import matplotlib.pyplot as plt\n",
    "import seaborn as sb\n"
   ]
  },
  {
   "cell_type": "code",
   "execution_count": null,
   "id": "e6eef25d-2636-4de0-ab19-dc15f8f484b7",
   "metadata": {},
   "outputs": [],
   "source": [
    "base_color = sb.color_palette\n",
    "year_order = df['year'].value_counts().index\n",
    "location_order = df['Location'].value_counts().index\n",
    "motive_order = df['Motive'].value_counts().index\n",
    "industry_order = df['Industry'].value_counts().index\n"
   ]
  },
  {
   "cell_type": "code",
   "execution_count": null,
   "id": "5c3da4c1-a8af-479f-8cea-0f0111d39191",
   "metadata": {},
   "outputs": [],
   "source": [
    "#attack frequency by year\n",
    "plt.figure(figsize=(20,8))\n",
    "plt.title(\"Attack Frequency by year\")\n",
    "sb.countplot(data=df, y='year', color=base_color, order=year_order)\n",
    "plt.xticks(rotation=45); "
   ]
  },
  {
   "cell_type": "code",
   "execution_count": null,
   "id": "7936db1c-6f4b-4bb1-ace5-5ef84f52ab3a",
   "metadata": {},
   "outputs": [],
   "source": [
    "#attack by industry\n",
    "plt.figure(figsize=(10,6))\n",
    "plt.title(\"Attack Frequency by industry\")\n",
    "sb.countplot(data=df,y='industry', color=base_color, order=year_order)\n",
    "plt.xticks(rotation=15)"
   ]
  },
  {
   "cell_type": "code",
   "execution_count": null,
   "id": "a3436cbb-6d40-48d8-9fc4-4ce197b53fd3",
   "metadata": {},
   "outputs": [],
   "source": [
    "plt.figure(figsize=(10,5))\n",
    "plt.title(\"Attack Frequency by Motive\")\n",
    "sb.countplot(data=df, y='Motive', color=base_color, order=motive_order)\n",
    "plt.xticks(rotation=15);"
   ]
  }
 ],
 "metadata": {
  "kernelspec": {
   "display_name": "Python 3 (ipykernel)",
   "language": "python",
   "name": "python3"
  },
  "language_info": {
   "codemirror_mode": {
    "name": "ipython",
    "version": 3
   },
   "file_extension": ".py",
   "mimetype": "text/x-python",
   "name": "python",
   "nbconvert_exporter": "python",
   "pygments_lexer": "ipython3",
   "version": "3.12.4"
  }
 },
 "nbformat": 4,
 "nbformat_minor": 5
}
